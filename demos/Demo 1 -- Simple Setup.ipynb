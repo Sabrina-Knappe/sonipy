{
 "cells": [
  {
   "cell_type": "markdown",
   "metadata": {},
   "source": [
    "# Example simple set-up\n",
    "##### With known pitch durations"
   ]
  },
  {
   "cell_type": "code",
   "execution_count": 5,
   "metadata": {},
   "outputs": [
    {
     "name": "stdout",
     "output_type": "stream",
     "text": [
      "multitones created\n",
      "multitones created\n",
      "Writing ./tones/multitone.wav\n",
      "Saved multitone as ./tones/multitone.wav.\n",
      "Writing /Users/lockepatton/Desktop/Research/Levesque_TransientZoo/code/2018_01_28_Building_Sonification_Code/tones/SN.mp4\n",
      "Saved multitone as /Users/lockepatton/Desktop/Research/Levesque_TransientZoo/code/2018_01_28_Building_Sonification_Code/tones/SN.mp4.\n"
     ]
    }
   ],
   "source": [
    "from sonify import *\n",
    "\n",
    "# scale = lambda v, val_lo, val_hi, f_lo, f_hi : v * (f_lo-f_hi)/(val_lo-val_hi) + f_lo\n",
    "\n",
    "C4 = 261.6 # Hz\n",
    "args = {'frequency_min' : C4,\n",
    "        'frequency_max' : C4*4,\n",
    "        'value_min' : 0,\n",
    "        'value_max' : 1}\n",
    "\n",
    "SN = MultiTone(values=[0,1], durations=[1000,1000], length=0.5, **args)\n",
    "# SN = MultiTone(values=[0,1], durations=[1000,1000], scale=scale, **args)\n",
    "\n",
    "# SN = MultiTone([0,1], [1000,1000], length=0.5, **args)\n",
    "\n",
    "SN.SaveTone()\n",
    "\n",
    "directory = '/Users/lockepatton/Desktop/Research/Levesque_TransientZoo/code/2018_01_28_Building_Sonification_Code'\n",
    "SN.SaveTone(path=directory,filename='SN.mp4')"
   ]
  },
  {
   "cell_type": "code",
   "execution_count": 2,
   "metadata": {},
   "outputs": [
    {
     "name": "stdout",
     "output_type": "stream",
     "text": [
      "/Users/lockepatton/Desktop/Research/Levesque_TransientZoo/code/2018_01_28_Building_Sonification_Code\r\n"
     ]
    }
   ],
   "source": [
    "!open .\n",
    "!pwd"
   ]
  }
 ],
 "metadata": {
  "kernelspec": {
   "display_name": "Python [conda env:anaconda]",
   "language": "python",
   "name": "conda-env-anaconda-py"
  },
  "language_info": {
   "codemirror_mode": {
    "name": "ipython",
    "version": 2
   },
   "file_extension": ".py",
   "mimetype": "text/x-python",
   "name": "python",
   "nbconvert_exporter": "python",
   "pygments_lexer": "ipython2",
   "version": "2.7.3"
  }
 },
 "nbformat": 4,
 "nbformat_minor": 2
}
