{
 "cells": [
  {
   "cell_type": "markdown",
   "metadata": {},
   "source": [
    "# Example simple set-up\n",
    "##### With known pitch durations"
   ]
  },
  {
   "cell_type": "code",
   "execution_count": 2,
   "metadata": {},
   "outputs": [],
   "source": [
    "import json"
   ]
  },
  {
   "cell_type": "code",
   "execution_count": 6,
   "metadata": {},
   "outputs": [],
   "source": [
    "with open(\"letters.json\") as f:\n",
    "    data = json.load(f)"
   ]
  },
  {
   "cell_type": "code",
   "execution_count": 17,
   "metadata": {},
   "outputs": [],
   "source": [
    "data.keys()\n",
    "\n",
    "values_input = data[u'datasetColl'][0]['data']\n",
    "values = [data[u'datasetColl'][0]['data'][i]['value'] for i in range(len(values_input))]"
   ]
  },
  {
   "cell_type": "code",
   "execution_count": 125,
   "metadata": {},
   "outputs": [],
   "source": [
    "addfunc = lambda x : np.arctan(x*1.5-1)-x"
   ]
  },
  {
   "cell_type": "code",
   "execution_count": 126,
   "metadata": {},
   "outputs": [
    {
     "data": {
      "text/plain": [
       "<matplotlib.collections.PathCollection at 0x1c140e7350>"
      ]
     },
     "execution_count": 126,
     "metadata": {},
     "output_type": "execute_result"
    },
    {
     "data": {
      "image/png": "[encoded data removed]",
      "text/plain": [
       "<matplotlib.figure.Figure at 0x1c1b824810>"
      ]
     },
     "metadata": {},
     "output_type": "display_data"
    }
   ],
   "source": [
    "x, y = np.array(values).T\n",
    "plt.scatter(x,y+addfunc(x), marker='+')"
   ]
  },
  {
   "cell_type": "code",
   "execution_count": 127,
   "metadata": {},
   "outputs": [
    {
     "name": "stdout",
     "output_type": "stream",
     "text": [
      "multitones created\n",
      "multitones created\n"
     ]
    }
   ],
   "source": [
    "from sonify import *\n",
    "\n",
    "# scale = lambda v, val_lo, val_hi, f_lo, f_hi : v * (f_lo-f_hi)/(val_lo-val_hi) + f_lo\n",
    "\n",
    "C4 = 261.6 # Hz\n",
    "args = {'frequency_min' : C4,\n",
    "        'frequency_max' : C4*2,\n",
    "        'value_min' : 0,\n",
    "        'value_max' : 1}\n",
    "\n",
    "\n",
    "SN = MultiTone(values=y+x, durations=x*50, **args)\n",
    "SN = MultiTone(values=y, durations=x*50, **args)\n"
   ]
  },
  {
   "cell_type": "code",
   "execution_count": 128,
   "metadata": {},
   "outputs": [
    {
     "name": "stdout",
     "output_type": "stream",
     "text": [
      "Writing ./tones/multitone.wav\n",
      "Saved multitone as ./tones/multitone.wav.\n",
      "Writing ./tones/sonipy.wav\n",
      "Saved multitone as ./tones/sonipy.wav.\n"
     ]
    }
   ],
   "source": [
    "SN.SaveTone()\n",
    "\n",
    "directory = '.'\n",
    "SN.SaveTone(path=directory, filename='sonipy.wav')"
   ]
  },
  {
   "cell_type": "code",
   "execution_count": 26,
   "metadata": {},
   "outputs": [],
   "source": [
    "!open ."
   ]
  },
  {
   "cell_type": "code",
   "execution_count": 2,
   "metadata": {},
   "outputs": [
    {
     "name": "stdout",
     "output_type": "stream",
     "text": [
      "/Users/lockepatton/Desktop/Research/Levesque_TransientZoo/code/2018_01_28_Building_Sonification_Code\r\n"
     ]
    }
   ],
   "source": [
    "!open .\n",
    "!pwd"
   ]
  }
 ],
 "metadata": {
  "kernelspec": {
   "display_name": "Python [conda env:anaconda]",
   "language": "python",
   "name": "conda-env-anaconda-py"
  },
  "language_info": {
   "codemirror_mode": {
    "name": "ipython",
    "version": 2
   },
   "file_extension": ".py",
   "mimetype": "text/x-python",
   "name": "python",
   "nbconvert_exporter": "python",
   "pygments_lexer": "ipython2",
   "version": "2.7.3"
  }
 },
 "nbformat": 4,
 "nbformat_minor": 2
}
